{
 "cells": [
  {
   "cell_type": "markdown",
   "id": "c2d5b889",
   "metadata": {},
   "source": [
    "## REGULAR EXPRESSIONS\n",
    "\n",
    "    A regular expression is a string manipulation method to search, split, find and match the pattern in any given string.It is very useful when it comes to finding any particular pattern or sequence in a string. "
   ]
  },
  {
   "cell_type": "code",
   "execution_count": 2,
   "id": "20d78a49",
   "metadata": {},
   "outputs": [],
   "source": [
    "import re #re is built-in module regular expression(re)"
   ]
  },
  {
   "cell_type": "code",
   "execution_count": 3,
   "id": "f64f2473",
   "metadata": {},
   "outputs": [],
   "source": [
    "text= \"A regular expression is a sequence of characters that specifies a search pattern in text.\""
   ]
  },
  {
   "cell_type": "code",
   "execution_count": 11,
   "id": "2882d0a5",
   "metadata": {},
   "outputs": [],
   "source": [
    "#search the string , search() returns a match object in the string\n",
    "\n",
    "x= re.search(\"^A....\", text)"
   ]
  },
  {
   "cell_type": "code",
   "execution_count": 12,
   "id": "0dc33822",
   "metadata": {},
   "outputs": [
    {
     "data": {
      "text/plain": [
       "<re.Match object; span=(0, 5), match='A reg'>"
      ]
     },
     "execution_count": 12,
     "metadata": {},
     "output_type": "execute_result"
    }
   ],
   "source": [
    "x"
   ]
  },
  {
   "cell_type": "code",
   "execution_count": 13,
   "id": "b307dd25",
   "metadata": {},
   "outputs": [
    {
     "data": {
      "text/plain": [
       "'A re'"
      ]
     },
     "execution_count": 13,
     "metadata": {},
     "output_type": "execute_result"
    }
   ],
   "source": [
    "text[0:4]"
   ]
  },
  {
   "cell_type": "code",
   "execution_count": 14,
   "id": "95857102",
   "metadata": {},
   "outputs": [],
   "source": [
    "# $ symbol use for end of string and period/dot is for anything further in string"
   ]
  },
  {
   "cell_type": "code",
   "execution_count": 37,
   "id": "dadeb9b6",
   "metadata": {},
   "outputs": [],
   "source": [
    "# period or dot(.) use to match any character except newline"
   ]
  },
  {
   "cell_type": "code",
   "execution_count": 19,
   "id": "a73e1c20",
   "metadata": {},
   "outputs": [],
   "source": [
    "xy= re.search(\"^A.*\", text)"
   ]
  },
  {
   "cell_type": "code",
   "execution_count": 20,
   "id": "05644cd8",
   "metadata": {},
   "outputs": [
    {
     "data": {
      "text/plain": [
       "<re.Match object; span=(0, 89), match='A regular expression is a sequence of characters >"
      ]
     },
     "execution_count": 20,
     "metadata": {},
     "output_type": "execute_result"
    }
   ],
   "source": [
    "xy"
   ]
  },
  {
   "cell_type": "code",
   "execution_count": 23,
   "id": "c981a3f8",
   "metadata": {},
   "outputs": [
    {
     "data": {
      "text/plain": [
       "'A regular expression is a sequence of characters that specifies a search pattern in text.'"
      ]
     },
     "execution_count": 23,
     "metadata": {},
     "output_type": "execute_result"
    }
   ],
   "source": [
    "text[0:89]"
   ]
  },
  {
   "cell_type": "code",
   "execution_count": 22,
   "id": "1af6c11e",
   "metadata": {},
   "outputs": [
    {
     "name": "stdout",
     "output_type": "stream",
     "text": [
      "<re.Match object; span=(0, 89), match='A regular expression is a sequence of characters >\n"
     ]
    }
   ],
   "source": [
    "print(xy)"
   ]
  },
  {
   "cell_type": "code",
   "execution_count": 27,
   "id": "e70b44f8",
   "metadata": {},
   "outputs": [],
   "source": [
    "# caret(^) is starting symbol or beginning of searched text\n",
    "\n",
    "caret= re.search(\"^A....\", text)"
   ]
  },
  {
   "cell_type": "code",
   "execution_count": 28,
   "id": "71b1ec1d",
   "metadata": {},
   "outputs": [
    {
     "name": "stdout",
     "output_type": "stream",
     "text": [
      "<re.Match object; span=(0, 5), match='A reg'>\n"
     ]
    }
   ],
   "source": [
    "print(caret)"
   ]
  },
  {
   "cell_type": "code",
   "execution_count": 30,
   "id": "000db9a1",
   "metadata": {},
   "outputs": [
    {
     "name": "stdout",
     "output_type": "stream",
     "text": [
      "None\n"
     ]
    }
   ],
   "source": [
    "# if A is starting symbol to string but if we apply any other symbol with caret(^) so none will return\n",
    "\n",
    "caret1= re.search(\"^regular\", text)\n",
    "print(caret1)"
   ]
  },
  {
   "cell_type": "code",
   "execution_count": 36,
   "id": "fddda40e",
   "metadata": {},
   "outputs": [
    {
     "name": "stdout",
     "output_type": "stream",
     "text": [
      "None\n",
      "<re.Match object; span=(89, 89), match=''>\n",
      "<re.Match object; span=(0, 89), match='A regular expression is a sequence of characters >\n"
     ]
    }
   ],
   "source": [
    "# dollor sign ($) is use to show the end of the string\n",
    "\n",
    "doller= re.search(\"^A regular$\", text)\n",
    "print(doller)\n",
    "\n",
    "doller1= re.search(\"$\", text)\n",
    "print(doller1)\n",
    "\n",
    "doller2= re.search(\"^A.*$\", text)\n",
    "print(doller2)"
   ]
  },
  {
   "cell_type": "code",
   "execution_count": 39,
   "id": "187a2c2b",
   "metadata": {},
   "outputs": [
    {
     "data": {
      "text/plain": [
       "'A regular expression is a sequence of characters that specifies a search pattern in text.'"
      ]
     },
     "execution_count": 39,
     "metadata": {},
     "output_type": "execute_result"
    }
   ],
   "source": [
    "text[0:89]"
   ]
  },
  {
   "cell_type": "markdown",
   "id": "487cd5e0",
   "metadata": {},
   "source": [
    "### findall function returns a list containing all matches\n",
    "#### re.findall(pattern, string, flags=0)\n",
    "\n",
    "> flags is an optional parameter to a regex that change of modify the behaviour of searching. It changes the default behviour.\n",
    "\n",
    "> pattern is a regular expression."
   ]
  },
  {
   "cell_type": "markdown",
   "id": "79333f8a",
   "metadata": {},
   "source": [
    "#### Square [] bracket is range set of character [a-z,A-Z,0-9]"
   ]
  },
  {
   "cell_type": "code",
   "execution_count": 43,
   "id": "334ae86d",
   "metadata": {},
   "outputs": [
    {
     "name": "stdout",
     "output_type": "stream",
     "text": [
      "['a', 'e', 'b', 'a', 'c', 'k', 'e', 'm', 'a', 'c', 'h', 'e', 'a', 'e', 'f', 'c', 'h', 'a', 'a', 'c', 'e']\n"
     ]
    }
   ],
   "source": [
    "sqtxt= 'square bracket matches any set of characters'\n",
    "\n",
    "\n",
    "#find all lower case characters b/w a and m\n",
    "sq = re.findall(\"[a-m]\", sqtxt)\n",
    "\n",
    "print(sq)"
   ]
  },
  {
   "cell_type": "code",
   "execution_count": 44,
   "id": "df9b8a0c",
   "metadata": {},
   "outputs": [
    {
     "name": "stdout",
     "output_type": "stream",
     "text": [
      "['s', 'q', 'u', 'a', 'r', 'e', 'b', 'r', 'a', 'c', 'k', 'e', 't', 'm', 'a', 't', 'c', 'h', 'e', 's', 'a', 'n', 'y', 's', 'e', 't', 'o', 'f', 'c', 'h', 'a', 'r', 'a', 'c', 't', 'e', 'r', 's']\n"
     ]
    }
   ],
   "source": [
    "sq= re.findall(\"[a-z]\", sqtxt)\n",
    "print(sq)"
   ]
  },
  {
   "cell_type": "markdown",
   "id": "cecb2537",
   "metadata": {},
   "source": [
    "### \\d matches digit"
   ]
  },
  {
   "cell_type": "code",
   "execution_count": 45,
   "id": "8fc35781",
   "metadata": {},
   "outputs": [
    {
     "data": {
      "text/plain": [
       "['3', '3', '0', '2']"
      ]
     },
     "execution_count": 45,
     "metadata": {},
     "output_type": "execute_result"
    }
   ],
   "source": [
    "digit= 'what is enroll no 3302.'\n",
    "\n",
    "dg = re.findall(\"\\d\", digit)\n",
    "\n",
    "dg"
   ]
  },
  {
   "cell_type": "code",
   "execution_count": 46,
   "id": "625a6c45",
   "metadata": {},
   "outputs": [
    {
     "data": {
      "text/plain": [
       "['33', '02']"
      ]
     },
     "execution_count": 46,
     "metadata": {},
     "output_type": "execute_result"
    }
   ],
   "source": [
    "dg1 = re.findall(\"\\d{2}\", digit)\n",
    "dg1"
   ]
  },
  {
   "cell_type": "markdown",
   "id": "25b040df",
   "metadata": {},
   "source": [
    "### Period or dot(.) select any character except new line "
   ]
  },
  {
   "cell_type": "code",
   "execution_count": 47,
   "id": "161bfe98",
   "metadata": {},
   "outputs": [
    {
     "data": {
      "text/plain": [
       "['regular', 'ression']"
      ]
     },
     "execution_count": 47,
     "metadata": {},
     "output_type": "execute_result"
    }
   ],
   "source": [
    "dtext = 'regular expression'\n",
    "\n",
    "dot= re.findall(\"re.....\", dtext)\n",
    "dot"
   ]
  },
  {
   "cell_type": "markdown",
   "id": "cc2f1464",
   "metadata": {},
   "source": [
    "### Asterisk (*) zero or more occurences in string"
   ]
  },
  {
   "cell_type": "code",
   "execution_count": 51,
   "id": "e9cf2c15",
   "metadata": {},
   "outputs": [
    {
     "data": {
      "text/plain": [
       "['s',\n",
       " '',\n",
       " 's',\n",
       " '',\n",
       " '',\n",
       " '',\n",
       " 's',\n",
       " '',\n",
       " '',\n",
       " 's',\n",
       " '',\n",
       " '',\n",
       " '',\n",
       " 's',\n",
       " '',\n",
       " '',\n",
       " '',\n",
       " '',\n",
       " '',\n",
       " 's',\n",
       " '',\n",
       " '',\n",
       " '',\n",
       " 's',\n",
       " '',\n",
       " '',\n",
       " '',\n",
       " '',\n",
       " '',\n",
       " '',\n",
       " '',\n",
       " '',\n",
       " '',\n",
       " '',\n",
       " '',\n",
       " '',\n",
       " '',\n",
       " '',\n",
       " '',\n",
       " '',\n",
       " '',\n",
       " '',\n",
       " '',\n",
       " '',\n",
       " '']"
      ]
     },
     "execution_count": 51,
     "metadata": {},
     "output_type": "execute_result"
    }
   ],
   "source": [
    "ast = 'sdsf ds dskgjsdgjklsdgjsdljcprteiowhcm,cxbbb'\n",
    "astt= re.findall(\"s*\", ast)\n",
    "\n",
    "astt"
   ]
  },
  {
   "cell_type": "code",
   "execution_count": 52,
   "id": "e363f504",
   "metadata": {},
   "outputs": [
    {
     "data": {
      "text/plain": [
       "['sksgsd dksjgdsjg vmnxqpitovlvplza,xcdkmnzxsdjkgrut']"
      ]
     },
     "execution_count": 52,
     "metadata": {},
     "output_type": "execute_result"
    }
   ],
   "source": [
    "astxt= 'qsksgsd dksjgdsjg vmnxqpitovlvplza,xcdkmnzxsdjkgrut'\n",
    "\n",
    "astv= re.findall(\"s.*\", astxt)\n",
    "\n",
    "astv"
   ]
  },
  {
   "cell_type": "markdown",
   "id": "5598b9ca",
   "metadata": {},
   "source": [
    "### plus(+) one or more occurences"
   ]
  },
  {
   "cell_type": "code",
   "execution_count": 53,
   "id": "d8bd2247",
   "metadata": {},
   "outputs": [
    {
     "data": {
      "text/plain": [
       "['ku']"
      ]
     },
     "execution_count": 53,
     "metadata": {},
     "output_type": "execute_result"
    }
   ],
   "source": [
    "ptext= 'kumar wrytuioplkjhgfdcvmxsn'\n",
    "\n",
    "plus = re.findall(\"ku+\", ptext)\n",
    "\n",
    "plus"
   ]
  },
  {
   "cell_type": "code",
   "execution_count": 62,
   "id": "f9e2be8c",
   "metadata": {},
   "outputs": [
    {
     "data": {
      "text/plain": [
       "['kumar dk hem']"
      ]
     },
     "execution_count": 62,
     "metadata": {},
     "output_type": "execute_result"
    }
   ],
   "source": [
    "ptxt = 'kumar dk hem  python regex s'\n",
    "\n",
    "pls = re.findall(\"ku.+m\", ptxt)\n",
    "pls"
   ]
  },
  {
   "cell_type": "markdown",
   "id": "a30684a4",
   "metadata": {},
   "source": [
    "###  A question sign(?) zero or one occurrences"
   ]
  },
  {
   "cell_type": "markdown",
   "id": "2e7c5e24",
   "metadata": {},
   "source": []
  }
 ],
 "metadata": {
  "kernelspec": {
   "display_name": "Python 3 (ipykernel)",
   "language": "python",
   "name": "python3"
  },
  "language_info": {
   "codemirror_mode": {
    "name": "ipython",
    "version": 3
   },
   "file_extension": ".py",
   "mimetype": "text/x-python",
   "name": "python",
   "nbconvert_exporter": "python",
   "pygments_lexer": "ipython3",
   "version": "3.9.10"
  }
 },
 "nbformat": 4,
 "nbformat_minor": 5
}
