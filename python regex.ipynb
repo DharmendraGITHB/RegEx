{
 "cells": [
  {
   "cell_type": "markdown",
   "id": "b778e919",
   "metadata": {},
   "source": [
    "## REGULAR EXPRESSIONS\n",
    "\n",
    "    Regular expression for string manipulation method to search, split,find and match the pattern in any given string. It is very useful when its come to find any particular pattern or sequence in string. "
   ]
  },
  {
   "cell_type": "code",
   "execution_count": 2,
   "id": "ee0844f7",
   "metadata": {},
   "outputs": [],
   "source": [
    "import re #re is built-in module regular expression(re)"
   ]
  },
  {
   "cell_type": "code",
   "execution_count": 3,
   "id": "bfc96177",
   "metadata": {},
   "outputs": [],
   "source": [
    "text= \"A regular expression is a sequence of characters that specifies a search pattern in text.\""
   ]
  },
  {
   "cell_type": "code",
   "execution_count": 11,
   "id": "d8a76abf",
   "metadata": {},
   "outputs": [],
   "source": [
    "#search the string , search() returns a match object in the string\n",
    "\n",
    "x= re.search(\"^A....\", text)"
   ]
  },
  {
   "cell_type": "code",
   "execution_count": 12,
   "id": "6ae8bd0c",
   "metadata": {},
   "outputs": [
    {
     "data": {
      "text/plain": [
       "<re.Match object; span=(0, 5), match='A reg'>"
      ]
     },
     "execution_count": 12,
     "metadata": {},
     "output_type": "execute_result"
    }
   ],
   "source": [
    "x"
   ]
  },
  {
   "cell_type": "code",
   "execution_count": 13,
   "id": "5f846cd8",
   "metadata": {},
   "outputs": [
    {
     "data": {
      "text/plain": [
       "'A re'"
      ]
     },
     "execution_count": 13,
     "metadata": {},
     "output_type": "execute_result"
    }
   ],
   "source": [
    "text[0:4]"
   ]
  },
  {
   "cell_type": "code",
   "execution_count": 14,
   "id": "602d2d52",
   "metadata": {},
   "outputs": [],
   "source": [
    "# $ symbol use for end of string and period/dot is for anything further in string"
   ]
  },
  {
   "cell_type": "code",
   "execution_count": 37,
   "id": "28a429d9",
   "metadata": {},
   "outputs": [],
   "source": [
    "# period or dot(.) use to match any character except newline"
   ]
  },
  {
   "cell_type": "code",
   "execution_count": 19,
   "id": "9666ca54",
   "metadata": {},
   "outputs": [],
   "source": [
    "xy= re.search(\"^A.*\", text)"
   ]
  },
  {
   "cell_type": "code",
   "execution_count": 20,
   "id": "fbad0614",
   "metadata": {},
   "outputs": [
    {
     "data": {
      "text/plain": [
       "<re.Match object; span=(0, 89), match='A regular expression is a sequence of characters >"
      ]
     },
     "execution_count": 20,
     "metadata": {},
     "output_type": "execute_result"
    }
   ],
   "source": [
    "xy"
   ]
  },
  {
   "cell_type": "code",
   "execution_count": 23,
   "id": "81c8e572",
   "metadata": {},
   "outputs": [
    {
     "data": {
      "text/plain": [
       "'A regular expression is a sequence of characters that specifies a search pattern in text.'"
      ]
     },
     "execution_count": 23,
     "metadata": {},
     "output_type": "execute_result"
    }
   ],
   "source": [
    "text[0:89]"
   ]
  },
  {
   "cell_type": "code",
   "execution_count": 22,
   "id": "cf6cefce",
   "metadata": {},
   "outputs": [
    {
     "name": "stdout",
     "output_type": "stream",
     "text": [
      "<re.Match object; span=(0, 89), match='A regular expression is a sequence of characters >\n"
     ]
    }
   ],
   "source": [
    "print(xy)"
   ]
  },
  {
   "cell_type": "code",
   "execution_count": 27,
   "id": "21b1cc01",
   "metadata": {},
   "outputs": [],
   "source": [
    "# caret(^) is starting symbol or beginning of searched text\n",
    "\n",
    "caret= re.search(\"^A....\", text)"
   ]
  },
  {
   "cell_type": "code",
   "execution_count": 28,
   "id": "e20d93ea",
   "metadata": {},
   "outputs": [
    {
     "name": "stdout",
     "output_type": "stream",
     "text": [
      "<re.Match object; span=(0, 5), match='A reg'>\n"
     ]
    }
   ],
   "source": [
    "print(caret)"
   ]
  },
  {
   "cell_type": "code",
   "execution_count": 30,
   "id": "b6782359",
   "metadata": {},
   "outputs": [
    {
     "name": "stdout",
     "output_type": "stream",
     "text": [
      "None\n"
     ]
    }
   ],
   "source": [
    "# if A is starting symbol to string but if we apply any other symbol with caret(^) so none will return\n",
    "\n",
    "caret1= re.search(\"^regular\", text)\n",
    "print(caret1)"
   ]
  },
  {
   "cell_type": "code",
   "execution_count": 36,
   "id": "225cc895",
   "metadata": {},
   "outputs": [
    {
     "name": "stdout",
     "output_type": "stream",
     "text": [
      "None\n",
      "<re.Match object; span=(89, 89), match=''>\n",
      "<re.Match object; span=(0, 89), match='A regular expression is a sequence of characters >\n"
     ]
    }
   ],
   "source": [
    "# dollor sign ($) is use to show the end of the string\n",
    "\n",
    "doller= re.search(\"^A regular$\", text)\n",
    "print(doller)\n",
    "\n",
    "doller1= re.search(\"$\", text)\n",
    "print(doller1)\n",
    "\n",
    "doller2= re.search(\"^A.*$\", text)\n",
    "print(doller2)"
   ]
  },
  {
   "cell_type": "code",
   "execution_count": 39,
   "id": "c510b5d5",
   "metadata": {},
   "outputs": [
    {
     "data": {
      "text/plain": [
       "'A regular expression is a sequence of characters that specifies a search pattern in text.'"
      ]
     },
     "execution_count": 39,
     "metadata": {},
     "output_type": "execute_result"
    }
   ],
   "source": [
    "text[0:89]"
   ]
  },
  {
   "cell_type": "markdown",
   "id": "0e2fe6a8",
   "metadata": {},
   "source": [
    "### findall function returns a list containing all matches\n",
    "#### re.findall(pattern, string, flags=0)\n",
    "\n",
    "> flags is an optional parameter to a regex that change of modify the behaviour of searching. It changes the default behviour.\n",
    "\n",
    "> pattern is a regular expression."
   ]
  },
  {
   "cell_type": "markdown",
   "id": "7f9ece75",
   "metadata": {},
   "source": [
    "#### Square [] bracket is range set of character [a-z,A-Z,0-9]"
   ]
  },
  {
   "cell_type": "code",
   "execution_count": 43,
   "id": "5f9cc7a7",
   "metadata": {},
   "outputs": [
    {
     "name": "stdout",
     "output_type": "stream",
     "text": [
      "['a', 'e', 'b', 'a', 'c', 'k', 'e', 'm', 'a', 'c', 'h', 'e', 'a', 'e', 'f', 'c', 'h', 'a', 'a', 'c', 'e']\n"
     ]
    }
   ],
   "source": [
    "sqtxt= 'square bracket matches any set of characters'\n",
    "\n",
    "\n",
    "#find all lower case characters b/w a and m\n",
    "sq = re.findall(\"[a-m]\", sqtxt)\n",
    "\n",
    "print(sq)"
   ]
  },
  {
   "cell_type": "code",
   "execution_count": 44,
   "id": "0277cf88",
   "metadata": {},
   "outputs": [
    {
     "name": "stdout",
     "output_type": "stream",
     "text": [
      "['s', 'q', 'u', 'a', 'r', 'e', 'b', 'r', 'a', 'c', 'k', 'e', 't', 'm', 'a', 't', 'c', 'h', 'e', 's', 'a', 'n', 'y', 's', 'e', 't', 'o', 'f', 'c', 'h', 'a', 'r', 'a', 'c', 't', 'e', 'r', 's']\n"
     ]
    }
   ],
   "source": [
    "sq= re.findall(\"[a-z]\", sqtxt)\n",
    "print(sq)"
   ]
  },
  {
   "cell_type": "markdown",
   "id": "dc09c9de",
   "metadata": {},
   "source": [
    "### \\d matches digit"
   ]
  },
  {
   "cell_type": "code",
   "execution_count": 45,
   "id": "cad196c7",
   "metadata": {},
   "outputs": [
    {
     "data": {
      "text/plain": [
       "['3', '3', '0', '2']"
      ]
     },
     "execution_count": 45,
     "metadata": {},
     "output_type": "execute_result"
    }
   ],
   "source": [
    "digit= 'what is enroll no 3302.'\n",
    "\n",
    "dg = re.findall(\"\\d\", digit)\n",
    "\n",
    "dg"
   ]
  },
  {
   "cell_type": "code",
   "execution_count": 46,
   "id": "64f9d226",
   "metadata": {},
   "outputs": [
    {
     "data": {
      "text/plain": [
       "['33', '02']"
      ]
     },
     "execution_count": 46,
     "metadata": {},
     "output_type": "execute_result"
    }
   ],
   "source": [
    "dg1 = re.findall(\"\\d{2}\", digit)\n",
    "dg1"
   ]
  },
  {
   "cell_type": "markdown",
   "id": "9a652060",
   "metadata": {},
   "source": [
    "### Period or dot(.) select any character except new line "
   ]
  },
  {
   "cell_type": "code",
   "execution_count": 47,
   "id": "c5ba5a74",
   "metadata": {},
   "outputs": [
    {
     "data": {
      "text/plain": [
       "['regular', 'ression']"
      ]
     },
     "execution_count": 47,
     "metadata": {},
     "output_type": "execute_result"
    }
   ],
   "source": [
    "dtext = 'regular expression'\n",
    "\n",
    "dot= re.findall(\"re.....\", dtext)\n",
    "dot"
   ]
  },
  {
   "cell_type": "markdown",
   "id": "b115fdc6",
   "metadata": {},
   "source": [
    "### Asterisk (*) zero or more occurences in string"
   ]
  },
  {
   "cell_type": "code",
   "execution_count": 51,
   "id": "60344cb6",
   "metadata": {},
   "outputs": [
    {
     "data": {
      "text/plain": [
       "['s',\n",
       " '',\n",
       " 's',\n",
       " '',\n",
       " '',\n",
       " '',\n",
       " 's',\n",
       " '',\n",
       " '',\n",
       " 's',\n",
       " '',\n",
       " '',\n",
       " '',\n",
       " 's',\n",
       " '',\n",
       " '',\n",
       " '',\n",
       " '',\n",
       " '',\n",
       " 's',\n",
       " '',\n",
       " '',\n",
       " '',\n",
       " 's',\n",
       " '',\n",
       " '',\n",
       " '',\n",
       " '',\n",
       " '',\n",
       " '',\n",
       " '',\n",
       " '',\n",
       " '',\n",
       " '',\n",
       " '',\n",
       " '',\n",
       " '',\n",
       " '',\n",
       " '',\n",
       " '',\n",
       " '',\n",
       " '',\n",
       " '',\n",
       " '',\n",
       " '']"
      ]
     },
     "execution_count": 51,
     "metadata": {},
     "output_type": "execute_result"
    }
   ],
   "source": [
    "ast = 'sdsf ds dskgjsdgjklsdgjsdljcprteiowhcm,cxbbb'\n",
    "astt= re.findall(\"s*\", ast)\n",
    "\n",
    "astt"
   ]
  },
  {
   "cell_type": "code",
   "execution_count": 52,
   "id": "7f451aba",
   "metadata": {},
   "outputs": [
    {
     "data": {
      "text/plain": [
       "['sksgsd dksjgdsjg vmnxqpitovlvplza,xcdkmnzxsdjkgrut']"
      ]
     },
     "execution_count": 52,
     "metadata": {},
     "output_type": "execute_result"
    }
   ],
   "source": [
    "astxt= 'qsksgsd dksjgdsjg vmnxqpitovlvplza,xcdkmnzxsdjkgrut'\n",
    "\n",
    "astv= re.findall(\"s.*\", astxt)\n",
    "\n",
    "astv"
   ]
  },
  {
   "cell_type": "markdown",
   "id": "11cf7ff4",
   "metadata": {},
   "source": [
    "### plus(+) one or more occurences"
   ]
  },
  {
   "cell_type": "code",
   "execution_count": 53,
   "id": "6f8ba5d4",
   "metadata": {},
   "outputs": [
    {
     "data": {
      "text/plain": [
       "['ku']"
      ]
     },
     "execution_count": 53,
     "metadata": {},
     "output_type": "execute_result"
    }
   ],
   "source": [
    "ptext= 'kumar wrytuioplkjhgfdcvmxsn'\n",
    "\n",
    "plus = re.findall(\"ku+\", ptext)\n",
    "\n",
    "plus"
   ]
  },
  {
   "cell_type": "code",
   "execution_count": 62,
   "id": "853a3cad",
   "metadata": {},
   "outputs": [
    {
     "data": {
      "text/plain": [
       "['kumar dk hem']"
      ]
     },
     "execution_count": 62,
     "metadata": {},
     "output_type": "execute_result"
    }
   ],
   "source": [
    "ptxt = 'kumar dk hem  python regex s'\n",
    "\n",
    "pls = re.findall(\"ku.+m\", ptxt)\n",
    "pls"
   ]
  },
  {
   "cell_type": "markdown",
   "id": "0dbf5181",
   "metadata": {},
   "source": [
    "###  A question sign(?) zero or one occurrences"
   ]
  },
  {
   "cell_type": "code",
   "execution_count": null,
   "id": "0a0367a6",
   "metadata": {},
   "outputs": [],
   "source": []
  }
 ],
 "metadata": {
  "kernelspec": {
   "display_name": "Python 3 (ipykernel)",
   "language": "python",
   "name": "python3"
  },
  "language_info": {
   "codemirror_mode": {
    "name": "ipython",
    "version": 3
   },
   "file_extension": ".py",
   "mimetype": "text/x-python",
   "name": "python",
   "nbconvert_exporter": "python",
   "pygments_lexer": "ipython3",
   "version": "3.9.10"
  }
 },
 "nbformat": 4,
 "nbformat_minor": 5
}
