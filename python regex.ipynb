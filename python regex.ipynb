{
 "cells": [
  {
   "cell_type": "markdown",
   "id": "6541df48",
   "metadata": {},
   "source": [
    "## REGULAR EXPRESSIONS\n",
    "\n",
    "    Regular expression is method to search, split and match the pattern in any given string. It is very useful when its come to find any particular pattern or sequence in string."
   ]
  },
  {
   "cell_type": "code",
   "execution_count": 2,
   "id": "02cc9ef4",
   "metadata": {},
   "outputs": [],
   "source": [
    "import re #re is built-in module regular expression(re)"
   ]
  },
  {
   "cell_type": "code",
   "execution_count": 3,
   "id": "1432cb95",
   "metadata": {},
   "outputs": [],
   "source": [
    "text= \"A regular expression is a sequence of characters that specifies a search pattern in text.\""
   ]
  },
  {
   "cell_type": "code",
   "execution_count": 11,
   "id": "8cfc0e52",
   "metadata": {},
   "outputs": [],
   "source": [
    "#search the string , search() returns a match object in the string\n",
    "\n",
    "x= re.search(\"^A....\", text)"
   ]
  },
  {
   "cell_type": "code",
   "execution_count": 12,
   "id": "d98b362d",
   "metadata": {},
   "outputs": [
    {
     "data": {
      "text/plain": [
       "<re.Match object; span=(0, 5), match='A reg'>"
      ]
     },
     "execution_count": 12,
     "metadata": {},
     "output_type": "execute_result"
    }
   ],
   "source": [
    "x"
   ]
  },
  {
   "cell_type": "code",
   "execution_count": 13,
   "id": "485e8227",
   "metadata": {},
   "outputs": [
    {
     "data": {
      "text/plain": [
       "'A re'"
      ]
     },
     "execution_count": 13,
     "metadata": {},
     "output_type": "execute_result"
    }
   ],
   "source": [
    "text[0:4]"
   ]
  },
  {
   "cell_type": "code",
   "execution_count": 14,
   "id": "78d5519b",
   "metadata": {},
   "outputs": [],
   "source": [
    "# $ symbol use for end of string and period/dot is for anything further in string"
   ]
  },
  {
   "cell_type": "code",
   "execution_count": 37,
   "id": "e44e3ec2",
   "metadata": {},
   "outputs": [],
   "source": [
    "# period or dot(.) use to match any character except newline"
   ]
  },
  {
   "cell_type": "code",
   "execution_count": 19,
   "id": "33f1ea83",
   "metadata": {},
   "outputs": [],
   "source": [
    "xy= re.search(\"^A.*\", text)"
   ]
  },
  {
   "cell_type": "code",
   "execution_count": 20,
   "id": "dec472f3",
   "metadata": {},
   "outputs": [
    {
     "data": {
      "text/plain": [
       "<re.Match object; span=(0, 89), match='A regular expression is a sequence of characters >"
      ]
     },
     "execution_count": 20,
     "metadata": {},
     "output_type": "execute_result"
    }
   ],
   "source": [
    "xy"
   ]
  },
  {
   "cell_type": "code",
   "execution_count": 23,
   "id": "f6830e64",
   "metadata": {},
   "outputs": [
    {
     "data": {
      "text/plain": [
       "'A regular expression is a sequence of characters that specifies a search pattern in text.'"
      ]
     },
     "execution_count": 23,
     "metadata": {},
     "output_type": "execute_result"
    }
   ],
   "source": [
    "text[0:89]"
   ]
  },
  {
   "cell_type": "code",
   "execution_count": 22,
   "id": "6a33c8ca",
   "metadata": {},
   "outputs": [
    {
     "name": "stdout",
     "output_type": "stream",
     "text": [
      "<re.Match object; span=(0, 89), match='A regular expression is a sequence of characters >\n"
     ]
    }
   ],
   "source": [
    "print(xy)"
   ]
  },
  {
   "cell_type": "code",
   "execution_count": 27,
   "id": "cedd679a",
   "metadata": {},
   "outputs": [],
   "source": [
    "# caret(^) is starting symbol or beginning of searched text\n",
    "\n",
    "caret= re.search(\"^A....\", text)"
   ]
  },
  {
   "cell_type": "code",
   "execution_count": 28,
   "id": "eba89cbe",
   "metadata": {},
   "outputs": [
    {
     "name": "stdout",
     "output_type": "stream",
     "text": [
      "<re.Match object; span=(0, 5), match='A reg'>\n"
     ]
    }
   ],
   "source": [
    "print(caret)"
   ]
  },
  {
   "cell_type": "code",
   "execution_count": 30,
   "id": "4006c5c7",
   "metadata": {},
   "outputs": [
    {
     "name": "stdout",
     "output_type": "stream",
     "text": [
      "None\n"
     ]
    }
   ],
   "source": [
    "# if A is starting symbol to string but if we apply any other symbol with caret(^) so none will return\n",
    "\n",
    "caret1= re.search(\"^regular\", text)\n",
    "print(caret1)"
   ]
  },
  {
   "cell_type": "code",
   "execution_count": 36,
   "id": "39826351",
   "metadata": {},
   "outputs": [
    {
     "name": "stdout",
     "output_type": "stream",
     "text": [
      "None\n",
      "<re.Match object; span=(89, 89), match=''>\n",
      "<re.Match object; span=(0, 89), match='A regular expression is a sequence of characters >\n"
     ]
    }
   ],
   "source": [
    "# dollor sign ($) is use to show the end of the string\n",
    "\n",
    "doller= re.search(\"^A regular$\", text)\n",
    "print(doller)\n",
    "\n",
    "doller1= re.search(\"$\", text)\n",
    "print(doller1)\n",
    "\n",
    "doller2= re.search(\"^A.*$\", text)\n",
    "print(doller2)"
   ]
  },
  {
   "cell_type": "code",
   "execution_count": 39,
   "id": "24b8e910",
   "metadata": {},
   "outputs": [
    {
     "data": {
      "text/plain": [
       "'A regular expression is a sequence of characters that specifies a search pattern in text.'"
      ]
     },
     "execution_count": 39,
     "metadata": {},
     "output_type": "execute_result"
    }
   ],
   "source": [
    "text[0:89]"
   ]
  },
  {
   "cell_type": "markdown",
   "id": "85d6ad66",
   "metadata": {},
   "source": [
    "### findall function returns a list containing all matches\n",
    "#### re.findall(pattern, string, flags=0)\n",
    "\n",
    "> flags is an optional parameter to a regex that change of modify the behaviour of searching. It changes the default behviour.\n",
    "\n",
    "> pattern is a regular expression."
   ]
  },
  {
   "cell_type": "markdown",
   "id": "38974427",
   "metadata": {},
   "source": []
  }
 ],
 "metadata": {
  "kernelspec": {
   "display_name": "Python 3 (ipykernel)",
   "language": "python",
   "name": "python3"
  },
  "language_info": {
   "codemirror_mode": {
    "name": "ipython",
    "version": 3
   },
   "file_extension": ".py",
   "mimetype": "text/x-python",
   "name": "python",
   "nbconvert_exporter": "python",
   "pygments_lexer": "ipython3",
   "version": "3.9.10"
  }
 },
 "nbformat": 4,
 "nbformat_minor": 5
}
